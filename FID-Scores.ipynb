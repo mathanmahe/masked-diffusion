{
  "nbformat": 4,
  "nbformat_minor": 0,
  "metadata": {
    "colab": {
      "provenance": []
    },
    "kernelspec": {
      "name": "python3",
      "display_name": "Python 3"
    },
    "language_info": {
      "name": "python"
    }
  },
  "cells": [
    {
      "cell_type": "code",
      "source": [
        "!pip install torch-fidelity"
      ],
      "metadata": {
        "colab": {
          "base_uri": "https://localhost:8080/"
        },
        "id": "sm_rc9SD54V9",
        "outputId": "632e2109-ffeb-4517-d25d-c32436df519f"
      },
      "execution_count": 1,
      "outputs": [
        {
          "output_type": "stream",
          "name": "stdout",
          "text": [
            "Requirement already satisfied: torch-fidelity in /usr/local/lib/python3.10/dist-packages (0.3.0)\n",
            "Requirement already satisfied: numpy in /usr/local/lib/python3.10/dist-packages (from torch-fidelity) (1.25.2)\n",
            "Requirement already satisfied: Pillow in /usr/local/lib/python3.10/dist-packages (from torch-fidelity) (9.4.0)\n",
            "Requirement already satisfied: scipy in /usr/local/lib/python3.10/dist-packages (from torch-fidelity) (1.11.4)\n",
            "Requirement already satisfied: torch in /usr/local/lib/python3.10/dist-packages (from torch-fidelity) (2.2.1+cu121)\n",
            "Requirement already satisfied: torchvision in /usr/local/lib/python3.10/dist-packages (from torch-fidelity) (0.17.1+cu121)\n",
            "Requirement already satisfied: tqdm in /usr/local/lib/python3.10/dist-packages (from torch-fidelity) (4.66.2)\n",
            "Requirement already satisfied: filelock in /usr/local/lib/python3.10/dist-packages (from torch->torch-fidelity) (3.13.1)\n",
            "Requirement already satisfied: typing-extensions>=4.8.0 in /usr/local/lib/python3.10/dist-packages (from torch->torch-fidelity) (4.10.0)\n",
            "Requirement already satisfied: sympy in /usr/local/lib/python3.10/dist-packages (from torch->torch-fidelity) (1.12)\n",
            "Requirement already satisfied: networkx in /usr/local/lib/python3.10/dist-packages (from torch->torch-fidelity) (3.2.1)\n",
            "Requirement already satisfied: jinja2 in /usr/local/lib/python3.10/dist-packages (from torch->torch-fidelity) (3.1.3)\n",
            "Requirement already satisfied: fsspec in /usr/local/lib/python3.10/dist-packages (from torch->torch-fidelity) (2023.6.0)\n",
            "Requirement already satisfied: nvidia-cuda-nvrtc-cu12==12.1.105 in /usr/local/lib/python3.10/dist-packages (from torch->torch-fidelity) (12.1.105)\n",
            "Requirement already satisfied: nvidia-cuda-runtime-cu12==12.1.105 in /usr/local/lib/python3.10/dist-packages (from torch->torch-fidelity) (12.1.105)\n",
            "Requirement already satisfied: nvidia-cuda-cupti-cu12==12.1.105 in /usr/local/lib/python3.10/dist-packages (from torch->torch-fidelity) (12.1.105)\n",
            "Requirement already satisfied: nvidia-cudnn-cu12==8.9.2.26 in /usr/local/lib/python3.10/dist-packages (from torch->torch-fidelity) (8.9.2.26)\n",
            "Requirement already satisfied: nvidia-cublas-cu12==12.1.3.1 in /usr/local/lib/python3.10/dist-packages (from torch->torch-fidelity) (12.1.3.1)\n",
            "Requirement already satisfied: nvidia-cufft-cu12==11.0.2.54 in /usr/local/lib/python3.10/dist-packages (from torch->torch-fidelity) (11.0.2.54)\n",
            "Requirement already satisfied: nvidia-curand-cu12==10.3.2.106 in /usr/local/lib/python3.10/dist-packages (from torch->torch-fidelity) (10.3.2.106)\n",
            "Requirement already satisfied: nvidia-cusolver-cu12==11.4.5.107 in /usr/local/lib/python3.10/dist-packages (from torch->torch-fidelity) (11.4.5.107)\n",
            "Requirement already satisfied: nvidia-cusparse-cu12==12.1.0.106 in /usr/local/lib/python3.10/dist-packages (from torch->torch-fidelity) (12.1.0.106)\n",
            "Requirement already satisfied: nvidia-nccl-cu12==2.19.3 in /usr/local/lib/python3.10/dist-packages (from torch->torch-fidelity) (2.19.3)\n",
            "Requirement already satisfied: nvidia-nvtx-cu12==12.1.105 in /usr/local/lib/python3.10/dist-packages (from torch->torch-fidelity) (12.1.105)\n",
            "Requirement already satisfied: triton==2.2.0 in /usr/local/lib/python3.10/dist-packages (from torch->torch-fidelity) (2.2.0)\n",
            "Requirement already satisfied: nvidia-nvjitlink-cu12 in /usr/local/lib/python3.10/dist-packages (from nvidia-cusolver-cu12==11.4.5.107->torch->torch-fidelity) (12.4.99)\n",
            "Requirement already satisfied: MarkupSafe>=2.0 in /usr/local/lib/python3.10/dist-packages (from jinja2->torch->torch-fidelity) (2.1.5)\n",
            "Requirement already satisfied: mpmath>=0.19 in /usr/local/lib/python3.10/dist-packages (from sympy->torch->torch-fidelity) (1.3.0)\n"
          ]
        }
      ]
    },
    {
      "cell_type": "code",
      "execution_count": 46,
      "metadata": {
        "id": "VCgQ2h961rDd"
      },
      "outputs": [],
      "source": [
        "from torchmetrics.image.fid import FrechetInceptionDistance\n",
        "import torch\n",
        "import numpy as np\n",
        "import tensorflow as tf\n",
        "import os\n",
        "import cv2\n",
        "\n",
        "def get_fid(images1, images2):\n",
        "\n",
        "    images1 = torch.tensor(images1, dtype=torch.uint8)\n",
        "    images2 = torch.tensor(images2, dtype=torch.uint8)\n",
        "\n",
        "    # add batch dimension\n",
        "    images1 = images1.unsqueeze(0)\n",
        "    images2 = images2.unsqueeze(0)\n",
        "\n",
        "    # batch_size*C*H*W -> batch_size*H*W*C\n",
        "    images1 = images1.permute(0, 3, 1, 2)\n",
        "    images2 = images2.permute(0, 3, 1, 2)\n",
        "\n",
        "    # https://lightning.ai/docs/torchmetrics/stable/image/frechet_inception_distance.html\n",
        "    # float scalar tensor with mean FID value over samples\n",
        "    # we keep batchsize 2 as minimum images required are 2 or more\n",
        "    images1 = images1.repeat(2, 1, 1, 1)\n",
        "    images2 = images2.repeat(2, 1, 1, 1)\n",
        "\n",
        "    fid = FrechetInceptionDistance(feature=64)\n",
        "    fid.update(images1, real=True)\n",
        "    fid.update(images2, real=False)\n",
        "    score = fid.compute()\n",
        "    return score"
      ]
    },
    {
      "cell_type": "code",
      "source": [
        "images1 = cv2.imread('./reference.jpeg')\n",
        "images2 = cv2.imread('./lion-sunglasses-our.png')"
      ],
      "metadata": {
        "id": "H2YOMW7r2FYR"
      },
      "execution_count": 47,
      "outputs": []
    },
    {
      "cell_type": "code",
      "source": [
        "x = get_fid(images1, images2)"
      ],
      "metadata": {
        "colab": {
          "base_uri": "https://localhost:8080/"
        },
        "id": "lbwQ2uWy3sSo",
        "outputId": "7d368f45-af57-4d1d-ffaa-14e75b06797b"
      },
      "execution_count": 48,
      "outputs": [
        {
          "output_type": "stream",
          "name": "stdout",
          "text": [
            "tensor(1.7544)\n"
          ]
        }
      ]
    },
    {
      "cell_type": "code",
      "source": [
        "print(x)"
      ],
      "metadata": {
        "colab": {
          "base_uri": "https://localhost:8080/"
        },
        "id": "1zrSGhHs3vgE",
        "outputId": "d7aa4c60-56b4-4399-b168-3648d448b59a"
      },
      "execution_count": 49,
      "outputs": [
        {
          "output_type": "stream",
          "name": "stdout",
          "text": [
            "tensor(1.7544)\n"
          ]
        }
      ]
    },
    {
      "cell_type": "code",
      "source": [
        "images3 = cv2.imread('./lion-sunglasses-baseline.png')"
      ],
      "metadata": {
        "id": "SQv1ASJT8QPb"
      },
      "execution_count": 50,
      "outputs": []
    },
    {
      "cell_type": "code",
      "source": [
        "y = get_fid(images1, images3)"
      ],
      "metadata": {
        "colab": {
          "base_uri": "https://localhost:8080/"
        },
        "id": "RQZ76Rh09lhl",
        "outputId": "99105d5e-1eb6-4553-a7c5-a5eecc093b46"
      },
      "execution_count": 51,
      "outputs": [
        {
          "output_type": "stream",
          "name": "stdout",
          "text": [
            "tensor(5.7031)\n"
          ]
        }
      ]
    },
    {
      "cell_type": "code",
      "source": [
        "i4 = cv2.imread('./dog-sunglasses-baseline.png')"
      ],
      "metadata": {
        "id": "I_0Jl0en9pNK"
      },
      "execution_count": 52,
      "outputs": []
    },
    {
      "cell_type": "code",
      "source": [
        "i5 = cv2.imread('./dog-sunglasses-our.png')\n"
      ],
      "metadata": {
        "id": "udcm7aIb_Nyx"
      },
      "execution_count": 53,
      "outputs": []
    },
    {
      "cell_type": "code",
      "source": [
        "z = get_fid(images1, i4)"
      ],
      "metadata": {
        "colab": {
          "base_uri": "https://localhost:8080/"
        },
        "id": "78qDEijV_S1R",
        "outputId": "322886ef-7c93-4976-9f70-941364f09f16"
      },
      "execution_count": 54,
      "outputs": [
        {
          "output_type": "stream",
          "name": "stdout",
          "text": [
            "tensor(30.9550)\n"
          ]
        }
      ]
    },
    {
      "cell_type": "code",
      "source": [
        "a = get_fid(images1, i5)"
      ],
      "metadata": {
        "colab": {
          "base_uri": "https://localhost:8080/"
        },
        "id": "I6yRJrAm_V9D",
        "outputId": "b895f475-3b51-4d25-b57a-70b8a3693281"
      },
      "execution_count": 55,
      "outputs": [
        {
          "output_type": "stream",
          "name": "stdout",
          "text": [
            "tensor(3.1471)\n"
          ]
        }
      ]
    },
    {
      "cell_type": "code",
      "source": [
        "i6 = cv2.imread('./horse-running-baseline.png')"
      ],
      "metadata": {
        "id": "spLOS54Q_bnU"
      },
      "execution_count": 56,
      "outputs": []
    },
    {
      "cell_type": "code",
      "source": [
        "i7 = cv2.imread('./horse-running-our.png')"
      ],
      "metadata": {
        "id": "YHDDaOE4_wju"
      },
      "execution_count": 57,
      "outputs": []
    },
    {
      "cell_type": "code",
      "source": [
        "b = get_fid(images1, i6)"
      ],
      "metadata": {
        "colab": {
          "base_uri": "https://localhost:8080/"
        },
        "id": "AhIsBrIO_0mx",
        "outputId": "026af6d6-ddf6-46d0-97b1-b6cfa89b5eb4"
      },
      "execution_count": 58,
      "outputs": [
        {
          "output_type": "stream",
          "name": "stdout",
          "text": [
            "tensor(40.7026)\n"
          ]
        }
      ]
    },
    {
      "cell_type": "code",
      "source": [
        "c = get_fid(images1, i7)"
      ],
      "metadata": {
        "colab": {
          "base_uri": "https://localhost:8080/"
        },
        "id": "1PFaBU2s_3XW",
        "outputId": "cde57264-735a-4b19-abd4-70d7182fffdb"
      },
      "execution_count": 59,
      "outputs": [
        {
          "output_type": "stream",
          "name": "stdout",
          "text": [
            "tensor(5.7273)\n"
          ]
        }
      ]
    },
    {
      "cell_type": "code",
      "source": [],
      "metadata": {
        "id": "9PBFiB_S_6po"
      },
      "execution_count": null,
      "outputs": []
    }
  ]
}